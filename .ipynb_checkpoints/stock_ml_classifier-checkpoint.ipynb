{
 "cells": [
  {
   "cell_type": "code",
   "execution_count": 2,
   "metadata": {
    "colab": {
     "base_uri": "https://localhost:8080/"
    },
    "id": "j_5PnQwmuva-",
    "outputId": "a6b9bee4-764b-4b93-dbff-ddb4ab7f7ff3"
   },
   "outputs": [
    {
     "name": "stdout",
     "output_type": "stream",
     "text": [
      "Created LEARNING_JOURNAL.md in current working directory.\n"
     ]
    }
   ],
   "source": [
    "content = \"\"\"\n",
    "# 📘 Learning Journal — SPY Stock Movement Classifier\n",
    "\n",
    "> Use this to track *what you’re actually learning*.\n",
    "> Fill out a new entry **every time you work on the project**, even if only for 15 minutes.\n",
    "\n",
    "---\n",
    "\n",
    "## ✏️ Entry Template\n",
    "\n",
    "### 📅 **Date & Session Duration**\n",
    "`YYYY-MM-DD — X minutes/hours`\n",
    "\n",
    "### 🧠 **Main Learning Outcome for Today**\n",
    "_What did I *intend* to understand or practice today?_\n",
    "\n",
    "### ⚙️ **What I Did**\n",
    "_Bullet list of activities, e.g., read docs, wrote code, debugged, researched_\n",
    "\n",
    "### 🔍 **What I Learned / Realized**\n",
    "_Even small realizations count — write them down. Be honest._\n",
    "\n",
    "### ❓ **What Confused Me**\n",
    "_Things that didn’t fully click yet or I felt shaky on_\n",
    "\n",
    "### 📌 **Next Questions to Explore**\n",
    "_What should I dig into or clarify next session?_\n",
    "\n",
    "---\n",
    "\n",
    "## 📈 Weekly Review (fill at end of each week)\n",
    "\n",
    "### ✅ What I actually learned this week (in my own words):\n",
    "\n",
    "### 🤯 Things that surprised me / I struggled with:\n",
    "\n",
    "### 🔄 Adjustments for next week (process or learning approach):\n",
    "\n",
    "---\n",
    "\"\"\"\n",
    "with open(\"LEARNING_JOURNAL.md\", \"w\") as f:\n",
    "    f.write(content)\n",
    "print(\"Created LEARNING_JOURNAL.md in current working directory.\")\n"
   ]
  },
  {
   "cell_type": "code",
   "execution_count": null,
   "metadata": {},
   "outputs": [],
   "source": []
  }
 ],
 "metadata": {
  "colab": {
   "provenance": []
  },
  "kernelspec": {
   "display_name": "Python 3 (ipykernel)",
   "language": "python",
   "name": "python3"
  },
  "language_info": {
   "codemirror_mode": {
    "name": "ipython",
    "version": 3
   },
   "file_extension": ".py",
   "mimetype": "text/x-python",
   "name": "python",
   "nbconvert_exporter": "python",
   "pygments_lexer": "ipython3",
   "version": "3.11.5"
  }
 },
 "nbformat": 4,
 "nbformat_minor": 1
}
