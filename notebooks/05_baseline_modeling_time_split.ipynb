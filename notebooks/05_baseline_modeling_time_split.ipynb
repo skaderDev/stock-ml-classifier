{
 "cells": [
  {
   "cell_type": "code",
   "execution_count": 1,
   "id": "a8c56f55",
   "metadata": {},
   "outputs": [],
   "source": [
    "import os\n",
    "import pandas as pd\n",
    "\n",
    "IN_PATH = os.path.join(\"..\", \"data\", \"processed\", \"spy_features_step4.csv\")\n",
    "\n",
    "# Columns we expect to exist based on Session 4\n",
    "REQUIRED = [\"Date\", \"y\", \"sma_5_ratio\", \"sma_10_ratio\", \"sma_20_ratio\"]"
   ]
  },
  {
   "cell_type": "code",
   "execution_count": 2,
   "id": "c487e6d2",
   "metadata": {},
   "outputs": [
    {
     "data": {
      "text/html": [
       "<div>\n",
       "<style scoped>\n",
       "    .dataframe tbody tr th:only-of-type {\n",
       "        vertical-align: middle;\n",
       "    }\n",
       "\n",
       "    .dataframe tbody tr th {\n",
       "        vertical-align: top;\n",
       "    }\n",
       "\n",
       "    .dataframe thead th {\n",
       "        text-align: right;\n",
       "    }\n",
       "</style>\n",
       "<table border=\"1\" class=\"dataframe\">\n",
       "  <thead>\n",
       "    <tr style=\"text-align: right;\">\n",
       "      <th></th>\n",
       "      <th>Date</th>\n",
       "      <th>Close</th>\n",
       "      <th>High</th>\n",
       "      <th>Low</th>\n",
       "      <th>Open</th>\n",
       "      <th>Volume</th>\n",
       "      <th>return_1d</th>\n",
       "      <th>y</th>\n",
       "      <th>sma_5</th>\n",
       "      <th>sma_5_ratio</th>\n",
       "      <th>sma_10</th>\n",
       "      <th>sma_10_ratio</th>\n",
       "      <th>sma_20</th>\n",
       "      <th>sma_20_ratio</th>\n",
       "    </tr>\n",
       "  </thead>\n",
       "  <tbody>\n",
       "    <tr>\n",
       "      <th>0</th>\n",
       "      <td>2010-01-04</td>\n",
       "      <td>85.515656</td>\n",
       "      <td>85.560928</td>\n",
       "      <td>84.142335</td>\n",
       "      <td>84.791267</td>\n",
       "      <td>118944600</td>\n",
       "      <td>0.002647</td>\n",
       "      <td>1</td>\n",
       "      <td>NaN</td>\n",
       "      <td>NaN</td>\n",
       "      <td>NaN</td>\n",
       "      <td>NaN</td>\n",
       "      <td>NaN</td>\n",
       "      <td>NaN</td>\n",
       "    </tr>\n",
       "    <tr>\n",
       "      <th>1</th>\n",
       "      <td>2010-01-05</td>\n",
       "      <td>85.742020</td>\n",
       "      <td>85.779751</td>\n",
       "      <td>85.153454</td>\n",
       "      <td>85.462832</td>\n",
       "      <td>111579900</td>\n",
       "      <td>0.000704</td>\n",
       "      <td>1</td>\n",
       "      <td>NaN</td>\n",
       "      <td>NaN</td>\n",
       "      <td>NaN</td>\n",
       "      <td>NaN</td>\n",
       "      <td>NaN</td>\n",
       "      <td>NaN</td>\n",
       "    </tr>\n",
       "    <tr>\n",
       "      <th>2</th>\n",
       "      <td>2010-01-06</td>\n",
       "      <td>85.802368</td>\n",
       "      <td>86.013647</td>\n",
       "      <td>85.591089</td>\n",
       "      <td>85.658998</td>\n",
       "      <td>116074400</td>\n",
       "      <td>0.004221</td>\n",
       "      <td>1</td>\n",
       "      <td>NaN</td>\n",
       "      <td>NaN</td>\n",
       "      <td>NaN</td>\n",
       "      <td>NaN</td>\n",
       "      <td>NaN</td>\n",
       "      <td>NaN</td>\n",
       "    </tr>\n",
       "  </tbody>\n",
       "</table>\n",
       "</div>"
      ],
      "text/plain": [
       "        Date      Close       High        Low       Open     Volume  \\\n",
       "0 2010-01-04  85.515656  85.560928  84.142335  84.791267  118944600   \n",
       "1 2010-01-05  85.742020  85.779751  85.153454  85.462832  111579900   \n",
       "2 2010-01-06  85.802368  86.013647  85.591089  85.658998  116074400   \n",
       "\n",
       "   return_1d  y  sma_5  sma_5_ratio  sma_10  sma_10_ratio  sma_20  \\\n",
       "0   0.002647  1    NaN          NaN     NaN           NaN     NaN   \n",
       "1   0.000704  1    NaN          NaN     NaN           NaN     NaN   \n",
       "2   0.004221  1    NaN          NaN     NaN           NaN     NaN   \n",
       "\n",
       "   sma_20_ratio  \n",
       "0           NaN  \n",
       "1           NaN  \n",
       "2           NaN  "
      ]
     },
     "execution_count": 2,
     "metadata": {},
     "output_type": "execute_result"
    }
   ],
   "source": [
    "df = pd.read_csv(IN_PATH, parse_dates=[\"Date\"], date_format=\"%Y-%m-%d\")\n",
    "\n",
    "missing = [c for c in REQUIRED if c not in df.columns]\n",
    "assert not missing, f\"Missing columns: {missing}\"\n",
    "\n",
    "df.head(3)"
   ]
  },
  {
   "cell_type": "code",
   "execution_count": 3,
   "id": "ee6b3d9c",
   "metadata": {},
   "outputs": [
    {
     "name": "stdout",
     "output_type": "stream",
     "text": [
      "Rows: 3754\n",
      "Date range: 2010-02-01 → 2024-12-30\n",
      "\n",
      "Label counts:\n",
      "y\n",
      "up      2075\n",
      "down    1679\n",
      "Name: count, dtype: int64\n",
      "\n",
      "Label distribution (%):\n",
      "y\n",
      "1    55.27\n",
      "0    44.73\n",
      "Name: proportion, dtype: float64\n"
     ]
    },
    {
     "data": {
      "text/html": [
       "<div>\n",
       "<style scoped>\n",
       "    .dataframe tbody tr th:only-of-type {\n",
       "        vertical-align: middle;\n",
       "    }\n",
       "\n",
       "    .dataframe tbody tr th {\n",
       "        vertical-align: top;\n",
       "    }\n",
       "\n",
       "    .dataframe thead th {\n",
       "        text-align: right;\n",
       "    }\n",
       "</style>\n",
       "<table border=\"1\" class=\"dataframe\">\n",
       "  <thead>\n",
       "    <tr style=\"text-align: right;\">\n",
       "      <th></th>\n",
       "      <th>Date</th>\n",
       "      <th>y</th>\n",
       "      <th>sma_5_ratio</th>\n",
       "      <th>sma_10_ratio</th>\n",
       "      <th>sma_20_ratio</th>\n",
       "    </tr>\n",
       "  </thead>\n",
       "  <tbody>\n",
       "    <tr>\n",
       "      <th>0</th>\n",
       "      <td>2010-02-01</td>\n",
       "      <td>1</td>\n",
       "      <td>1.002095</td>\n",
       "      <td>0.988050</td>\n",
       "      <td>0.971668</td>\n",
       "    </tr>\n",
       "    <tr>\n",
       "      <th>1</th>\n",
       "      <td>2010-02-02</td>\n",
       "      <td>0</td>\n",
       "      <td>1.012233</td>\n",
       "      <td>1.004267</td>\n",
       "      <td>0.984722</td>\n",
       "    </tr>\n",
       "    <tr>\n",
       "      <th>2</th>\n",
       "      <td>2010-02-03</td>\n",
       "      <td>0</td>\n",
       "      <td>1.007190</td>\n",
       "      <td>1.002968</td>\n",
       "      <td>0.981479</td>\n",
       "    </tr>\n",
       "    <tr>\n",
       "      <th>3</th>\n",
       "      <td>2010-02-04</td>\n",
       "      <td>1</td>\n",
       "      <td>0.979930</td>\n",
       "      <td>0.976702</td>\n",
       "      <td>0.954285</td>\n",
       "    </tr>\n",
       "    <tr>\n",
       "      <th>4</th>\n",
       "      <td>2010-02-05</td>\n",
       "      <td>0</td>\n",
       "      <td>0.983277</td>\n",
       "      <td>0.981016</td>\n",
       "      <td>0.959497</td>\n",
       "    </tr>\n",
       "  </tbody>\n",
       "</table>\n",
       "</div>"
      ],
      "text/plain": [
       "        Date  y  sma_5_ratio  sma_10_ratio  sma_20_ratio\n",
       "0 2010-02-01  1     1.002095      0.988050      0.971668\n",
       "1 2010-02-02  0     1.012233      1.004267      0.984722\n",
       "2 2010-02-03  0     1.007190      1.002968      0.981479\n",
       "3 2010-02-04  1     0.979930      0.976702      0.954285\n",
       "4 2010-02-05  0     0.983277      0.981016      0.959497"
      ]
     },
     "execution_count": 3,
     "metadata": {},
     "output_type": "execute_result"
    }
   ],
   "source": [
    "data = (\n",
    "    df[REQUIRED]              # only the columns we need downstream\n",
    "      .sort_values(\"Date\")    # chronological order to avoid leakage later\n",
    "      .dropna()               # remove early-window NaNs from SMA features\n",
    "      .reset_index(drop=True)\n",
    ")\n",
    "\n",
    "print(\"Rows:\", len(data))\n",
    "print(\"Date range:\", data[\"Date\"].min().date(), \"→\", data[\"Date\"].max().date())\n",
    "\n",
    "print(\"\\nLabel counts:\")\n",
    "print(data[\"y\"].value_counts().rename({0: \"down\", 1: \"up\"}))\n",
    "\n",
    "print(\"\\nLabel distribution (%):\")\n",
    "print((data[\"y\"].value_counts(normalize=True) * 100).round(2))\n",
    "\n",
    "data.head(5)"
   ]
  },
  {
   "cell_type": "code",
   "execution_count": 4,
   "id": "0e9c5bd8",
   "metadata": {},
   "outputs": [
    {
     "name": "stdout",
     "output_type": "stream",
     "text": [
      "Train: 2010-02-01 → 2020-12-31 | n: 2750\n",
      "Test:  2021-01-04 → 2024-12-30 | n: 1004\n"
     ]
    }
   ],
   "source": [
    "import pandas as pd\n",
    "\n",
    "SPLIT_DATE = pd.Timestamp(\"2021-01-01\")   # adjust later if you want\n",
    "\n",
    "FEATURES = [\"sma_5_ratio\", \"sma_10_ratio\", \"sma_20_ratio\"]\n",
    "TARGET   = \"y\"\n",
    "\n",
    "train = data[data[\"Date\"] < SPLIT_DATE].copy()\n",
    "test  = data[data[\"Date\"] >= SPLIT_DATE].copy()\n",
    "\n",
    "X_train, y_train = train[FEATURES], train[TARGET]\n",
    "X_test,  y_test  = test[FEATURES],  test[TARGET]\n",
    "\n",
    "print(\"Train:\", train[\"Date\"].min().date(), \"→\", train[\"Date\"].max().date(), \"| n:\", len(train))\n",
    "print(\"Test: \", test[\"Date\"].min().date(),  \"→\", test[\"Date\"].max().date(),  \"| n:\", len(test))\n",
    "\n",
    "assert train[\"Date\"].max() < test[\"Date\"].min(), \"Leakage risk: overlapping dates.\"\n",
    "assert len(train) > 0 and len(test) > 0, \"Empty split—adjust SPLIT_DATE.\""
   ]
  },
  {
   "cell_type": "code",
   "execution_count": 5,
   "id": "5cf66c44",
   "metadata": {},
   "outputs": [
    {
     "data": {
      "text/html": [
       "<style>#sk-container-id-1 {color: black;}#sk-container-id-1 pre{padding: 0;}#sk-container-id-1 div.sk-toggleable {background-color: white;}#sk-container-id-1 label.sk-toggleable__label {cursor: pointer;display: block;width: 100%;margin-bottom: 0;padding: 0.3em;box-sizing: border-box;text-align: center;}#sk-container-id-1 label.sk-toggleable__label-arrow:before {content: \"▸\";float: left;margin-right: 0.25em;color: #696969;}#sk-container-id-1 label.sk-toggleable__label-arrow:hover:before {color: black;}#sk-container-id-1 div.sk-estimator:hover label.sk-toggleable__label-arrow:before {color: black;}#sk-container-id-1 div.sk-toggleable__content {max-height: 0;max-width: 0;overflow: hidden;text-align: left;background-color: #f0f8ff;}#sk-container-id-1 div.sk-toggleable__content pre {margin: 0.2em;color: black;border-radius: 0.25em;background-color: #f0f8ff;}#sk-container-id-1 input.sk-toggleable__control:checked~div.sk-toggleable__content {max-height: 200px;max-width: 100%;overflow: auto;}#sk-container-id-1 input.sk-toggleable__control:checked~label.sk-toggleable__label-arrow:before {content: \"▾\";}#sk-container-id-1 div.sk-estimator input.sk-toggleable__control:checked~label.sk-toggleable__label {background-color: #d4ebff;}#sk-container-id-1 div.sk-label input.sk-toggleable__control:checked~label.sk-toggleable__label {background-color: #d4ebff;}#sk-container-id-1 input.sk-hidden--visually {border: 0;clip: rect(1px 1px 1px 1px);clip: rect(1px, 1px, 1px, 1px);height: 1px;margin: -1px;overflow: hidden;padding: 0;position: absolute;width: 1px;}#sk-container-id-1 div.sk-estimator {font-family: monospace;background-color: #f0f8ff;border: 1px dotted black;border-radius: 0.25em;box-sizing: border-box;margin-bottom: 0.5em;}#sk-container-id-1 div.sk-estimator:hover {background-color: #d4ebff;}#sk-container-id-1 div.sk-parallel-item::after {content: \"\";width: 100%;border-bottom: 1px solid gray;flex-grow: 1;}#sk-container-id-1 div.sk-label:hover label.sk-toggleable__label {background-color: #d4ebff;}#sk-container-id-1 div.sk-serial::before {content: \"\";position: absolute;border-left: 1px solid gray;box-sizing: border-box;top: 0;bottom: 0;left: 50%;z-index: 0;}#sk-container-id-1 div.sk-serial {display: flex;flex-direction: column;align-items: center;background-color: white;padding-right: 0.2em;padding-left: 0.2em;position: relative;}#sk-container-id-1 div.sk-item {position: relative;z-index: 1;}#sk-container-id-1 div.sk-parallel {display: flex;align-items: stretch;justify-content: center;background-color: white;position: relative;}#sk-container-id-1 div.sk-item::before, #sk-container-id-1 div.sk-parallel-item::before {content: \"\";position: absolute;border-left: 1px solid gray;box-sizing: border-box;top: 0;bottom: 0;left: 50%;z-index: -1;}#sk-container-id-1 div.sk-parallel-item {display: flex;flex-direction: column;z-index: 1;position: relative;background-color: white;}#sk-container-id-1 div.sk-parallel-item:first-child::after {align-self: flex-end;width: 50%;}#sk-container-id-1 div.sk-parallel-item:last-child::after {align-self: flex-start;width: 50%;}#sk-container-id-1 div.sk-parallel-item:only-child::after {width: 0;}#sk-container-id-1 div.sk-dashed-wrapped {border: 1px dashed gray;margin: 0 0.4em 0.5em 0.4em;box-sizing: border-box;padding-bottom: 0.4em;background-color: white;}#sk-container-id-1 div.sk-label label {font-family: monospace;font-weight: bold;display: inline-block;line-height: 1.2em;}#sk-container-id-1 div.sk-label-container {text-align: center;}#sk-container-id-1 div.sk-container {/* jupyter's `normalize.less` sets `[hidden] { display: none; }` but bootstrap.min.css set `[hidden] { display: none !important; }` so we also need the `!important` here to be able to override the default hidden behavior on the sphinx rendered scikit-learn.org. See: https://github.com/scikit-learn/scikit-learn/issues/21755 */display: inline-block !important;position: relative;}#sk-container-id-1 div.sk-text-repr-fallback {display: none;}</style><div id=\"sk-container-id-1\" class=\"sk-top-container\"><div class=\"sk-text-repr-fallback\"><pre>Pipeline(steps=[(&#x27;scaler&#x27;, StandardScaler()),\n",
       "                (&#x27;clf&#x27;, LogisticRegression(max_iter=2000))])</pre><b>In a Jupyter environment, please rerun this cell to show the HTML representation or trust the notebook. <br />On GitHub, the HTML representation is unable to render, please try loading this page with nbviewer.org.</b></div><div class=\"sk-container\" hidden><div class=\"sk-item sk-dashed-wrapped\"><div class=\"sk-label-container\"><div class=\"sk-label sk-toggleable\"><input class=\"sk-toggleable__control sk-hidden--visually\" id=\"sk-estimator-id-1\" type=\"checkbox\" ><label for=\"sk-estimator-id-1\" class=\"sk-toggleable__label sk-toggleable__label-arrow\">Pipeline</label><div class=\"sk-toggleable__content\"><pre>Pipeline(steps=[(&#x27;scaler&#x27;, StandardScaler()),\n",
       "                (&#x27;clf&#x27;, LogisticRegression(max_iter=2000))])</pre></div></div></div><div class=\"sk-serial\"><div class=\"sk-item\"><div class=\"sk-estimator sk-toggleable\"><input class=\"sk-toggleable__control sk-hidden--visually\" id=\"sk-estimator-id-2\" type=\"checkbox\" ><label for=\"sk-estimator-id-2\" class=\"sk-toggleable__label sk-toggleable__label-arrow\">StandardScaler</label><div class=\"sk-toggleable__content\"><pre>StandardScaler()</pre></div></div></div><div class=\"sk-item\"><div class=\"sk-estimator sk-toggleable\"><input class=\"sk-toggleable__control sk-hidden--visually\" id=\"sk-estimator-id-3\" type=\"checkbox\" ><label for=\"sk-estimator-id-3\" class=\"sk-toggleable__label sk-toggleable__label-arrow\">LogisticRegression</label><div class=\"sk-toggleable__content\"><pre>LogisticRegression(max_iter=2000)</pre></div></div></div></div></div></div></div>"
      ],
      "text/plain": [
       "Pipeline(steps=[('scaler', StandardScaler()),\n",
       "                ('clf', LogisticRegression(max_iter=2000))])"
      ]
     },
     "execution_count": 5,
     "metadata": {},
     "output_type": "execute_result"
    }
   ],
   "source": [
    "from sklearn.pipeline import Pipeline\n",
    "from sklearn.preprocessing import StandardScaler\n",
    "from sklearn.linear_model import LogisticRegression\n",
    "\n",
    "logreg_pipe = Pipeline(steps=[\n",
    "    (\"scaler\", StandardScaler()),\n",
    "    (\"clf\", LogisticRegression(max_iter=2000))\n",
    "])\n",
    "\n",
    "logreg_pipe"
   ]
  },
  {
   "cell_type": "code",
   "execution_count": 6,
   "id": "ef91f686",
   "metadata": {},
   "outputs": [
    {
     "name": "stdout",
     "output_type": "stream",
     "text": [
      "Model fitted. Coefficients shape: (1, 3)\n"
     ]
    }
   ],
   "source": [
    "logreg_pipe.fit(X_train, y_train)\n",
    "\n",
    "# Quick check: model is trained if no errors were raised.\n",
    "print(\"Model fitted. Coefficients shape:\", logreg_pipe.named_steps[\"clf\"].coef_.shape)"
   ]
  },
  {
   "cell_type": "code",
   "execution_count": 7,
   "id": "0d26d1f1",
   "metadata": {},
   "outputs": [
    {
     "name": "stdout",
     "output_type": "stream",
     "text": [
      "{'accuracy': 0.5408, 'precision': 0.5408, 'recall': 1.0, 'f1': 0.702, 'roc_auc': 0.4931, 'test_n': 1004, 'split_date': '2021-01-01'}\n",
      "\n",
      "Confusion matrix:\n",
      " [[  0 461]\n",
      " [  0 543]]\n"
     ]
    }
   ],
   "source": [
    "from sklearn.metrics import accuracy_score, precision_score, recall_score, f1_score, roc_auc_score, confusion_matrix\n",
    "\n",
    "y_pred  = logreg_pipe.predict(X_test)\n",
    "y_proba = logreg_pipe.predict_proba(X_test)[:, 1]\n",
    "\n",
    "accuracy  = accuracy_score(y_test, y_pred)\n",
    "precision = precision_score(y_test, y_pred)\n",
    "recall    = recall_score(y_test, y_pred)\n",
    "f1        = f1_score(y_test, y_pred)\n",
    "rocauc    = roc_auc_score(y_test, y_proba)\n",
    "cm        = confusion_matrix(y_test, y_pred)\n",
    "\n",
    "print({\n",
    "    \"accuracy\": round(accuracy, 4),\n",
    "    \"precision\": round(precision, 4),\n",
    "    \"recall\": round(recall, 4),\n",
    "    \"f1\": round(f1, 4),\n",
    "    \"roc_auc\": round(rocauc, 4),\n",
    "    \"test_n\": len(y_test),\n",
    "    \"split_date\": str(SPLIT_DATE.date())\n",
    "})\n",
    "print(\"\\nConfusion matrix:\\n\", cm)"
   ]
  },
  {
   "cell_type": "code",
   "execution_count": 8,
   "id": "19fe14ef",
   "metadata": {},
   "outputs": [
    {
     "name": "stdout",
     "output_type": "stream",
     "text": [
      "{'model': 'random_forest', 'accuracy': 0.504, 'precision': 0.5341, 'recall': 0.6483, 'f1': 0.5857, 'roc_auc': 0.4937, 'test_n': 1004}\n"
     ]
    }
   ],
   "source": [
    "from sklearn.ensemble import RandomForestClassifier\n",
    "from sklearn.metrics import accuracy_score, precision_score, recall_score, f1_score, roc_auc_score, confusion_matrix\n",
    "\n",
    "rf = RandomForestClassifier(\n",
    "    n_estimators=300,\n",
    "    random_state=42,\n",
    "    n_jobs=-1\n",
    ")\n",
    "rf.fit(X_train, y_train)\n",
    "\n",
    "y_pred_rf  = rf.predict(X_test)\n",
    "y_proba_rf = rf.predict_proba(X_test)[:, 1]\n",
    "\n",
    "rf_metrics = {\n",
    "    \"model\": \"random_forest\",\n",
    "    \"accuracy\": round(accuracy_score(y_test, y_pred_rf), 4),\n",
    "    \"precision\": round(precision_score(y_test, y_pred_rf), 4),\n",
    "    \"recall\": round(recall_score(y_test, y_pred_rf), 4),\n",
    "    \"f1\": round(f1_score(y_test, y_pred_rf), 4),\n",
    "    \"roc_auc\": round(roc_auc_score(y_test, y_proba_rf), 4),\n",
    "    \"test_n\": len(y_test)\n",
    "}\n",
    "print(rf_metrics)"
   ]
  },
  {
   "cell_type": "code",
   "execution_count": 9,
   "id": "656e117a",
   "metadata": {},
   "outputs": [
    {
     "data": {
      "text/html": [
       "<div>\n",
       "<style scoped>\n",
       "    .dataframe tbody tr th:only-of-type {\n",
       "        vertical-align: middle;\n",
       "    }\n",
       "\n",
       "    .dataframe tbody tr th {\n",
       "        vertical-align: top;\n",
       "    }\n",
       "\n",
       "    .dataframe thead th {\n",
       "        text-align: right;\n",
       "    }\n",
       "</style>\n",
       "<table border=\"1\" class=\"dataframe\">\n",
       "  <thead>\n",
       "    <tr style=\"text-align: right;\">\n",
       "      <th></th>\n",
       "      <th>model</th>\n",
       "      <th>accuracy</th>\n",
       "      <th>precision</th>\n",
       "      <th>recall</th>\n",
       "      <th>f1</th>\n",
       "      <th>roc_auc</th>\n",
       "      <th>test_n</th>\n",
       "    </tr>\n",
       "  </thead>\n",
       "  <tbody>\n",
       "    <tr>\n",
       "      <th>1</th>\n",
       "      <td>random_forest</td>\n",
       "      <td>0.5040</td>\n",
       "      <td>0.5341</td>\n",
       "      <td>0.6483</td>\n",
       "      <td>0.5857</td>\n",
       "      <td>0.4937</td>\n",
       "      <td>1004</td>\n",
       "    </tr>\n",
       "    <tr>\n",
       "      <th>0</th>\n",
       "      <td>logreg</td>\n",
       "      <td>0.5408</td>\n",
       "      <td>0.5408</td>\n",
       "      <td>1.0000</td>\n",
       "      <td>0.7020</td>\n",
       "      <td>0.4931</td>\n",
       "      <td>1004</td>\n",
       "    </tr>\n",
       "  </tbody>\n",
       "</table>\n",
       "</div>"
      ],
      "text/plain": [
       "           model  accuracy  precision  recall      f1  roc_auc  test_n\n",
       "1  random_forest    0.5040     0.5341  0.6483  0.5857   0.4937    1004\n",
       "0         logreg    0.5408     0.5408  1.0000  0.7020   0.4931    1004"
      ]
     },
     "execution_count": 9,
     "metadata": {},
     "output_type": "execute_result"
    }
   ],
   "source": [
    "import pandas as pd\n",
    "\n",
    "logreg_metrics = {\n",
    "    \"model\": \"logreg\",\n",
    "    \"accuracy\": round(accuracy, 4),\n",
    "    \"precision\": round(precision, 4),\n",
    "    \"recall\": round(recall, 4),\n",
    "    \"f1\": round(f1, 4),\n",
    "    \"roc_auc\": round(rocauc, 4),\n",
    "    \"test_n\": len(y_test)\n",
    "}\n",
    "\n",
    "results = pd.DataFrame([logreg_metrics, rf_metrics]).sort_values(\"roc_auc\", ascending=False)\n",
    "results"
   ]
  },
  {
   "cell_type": "code",
   "execution_count": 13,
   "id": "993c6a9d",
   "metadata": {},
   "outputs": [
    {
     "data": {
      "text/plain": [
       "<Figure size 600x500 with 0 Axes>"
      ]
     },
     "metadata": {},
     "output_type": "display_data"
    },
    {
     "data": {
      "image/png": "[encoded data removed]",
      "text/plain": [
       "<Figure size 640x480 with 1 Axes>"
      ]
     },
     "metadata": {},
     "output_type": "display_data"
    },
    {
     "data": {
      "image/png": "[encoded data removed]",
      "text/plain": [
       "<Figure size 640x480 with 1 Axes>"
      ]
     },
     "metadata": {},
     "output_type": "display_data"
    }
   ],
   "source": [
    "from sklearn.metrics import RocCurveDisplay\n",
    "import matplotlib.pyplot as plt\n",
    "\n",
    "plt.figure(figsize=(6,5))\n",
    "RocCurveDisplay.from_predictions(y_test, y_proba, name=\"logreg\")\n",
    "RocCurveDisplay.from_predictions(y_test, y_proba_rf, name=\"random_forest\")\n",
    "plt.title(\"ROC Curves - Session 5 Baselines\")\n",
    "plt.tight_layout(); plt.show()"
   ]
  },
  {
   "cell_type": "code",
   "execution_count": 11,
   "id": "2480f9d4",
   "metadata": {},
   "outputs": [
    {
     "data": {
      "text/html": [
       "<div>\n",
       "<style scoped>\n",
       "    .dataframe tbody tr th:only-of-type {\n",
       "        vertical-align: middle;\n",
       "    }\n",
       "\n",
       "    .dataframe tbody tr th {\n",
       "        vertical-align: top;\n",
       "    }\n",
       "\n",
       "    .dataframe thead th {\n",
       "        text-align: right;\n",
       "    }\n",
       "</style>\n",
       "<table border=\"1\" class=\"dataframe\">\n",
       "  <thead>\n",
       "    <tr style=\"text-align: right;\">\n",
       "      <th></th>\n",
       "      <th>feature</th>\n",
       "      <th>importance</th>\n",
       "    </tr>\n",
       "  </thead>\n",
       "  <tbody>\n",
       "    <tr>\n",
       "      <th>0</th>\n",
       "      <td>sma_5_ratio</td>\n",
       "      <td>0.335122</td>\n",
       "    </tr>\n",
       "    <tr>\n",
       "      <th>2</th>\n",
       "      <td>sma_20_ratio</td>\n",
       "      <td>0.332860</td>\n",
       "    </tr>\n",
       "    <tr>\n",
       "      <th>1</th>\n",
       "      <td>sma_10_ratio</td>\n",
       "      <td>0.332018</td>\n",
       "    </tr>\n",
       "  </tbody>\n",
       "</table>\n",
       "</div>"
      ],
      "text/plain": [
       "        feature  importance\n",
       "0   sma_5_ratio    0.335122\n",
       "2  sma_20_ratio    0.332860\n",
       "1  sma_10_ratio    0.332018"
      ]
     },
     "execution_count": 11,
     "metadata": {},
     "output_type": "execute_result"
    }
   ],
   "source": [
    "import numpy as np\n",
    "\n",
    "fi = pd.DataFrame({\n",
    "    \"feature\": X_train.columns,\n",
    "    \"importance\": rf.feature_importances_\n",
    "}).sort_values(\"importance\", ascending=False)\n",
    "fi"
   ]
  },
  {
   "cell_type": "code",
   "execution_count": 12,
   "id": "2c21039e",
   "metadata": {},
   "outputs": [
    {
     "data": {
      "text/plain": [
       "session                           Session 5 — Baseline Modeling\n",
       "features              [sma_5_ratio, sma_10_ratio, sma_20_ratio]\n",
       "split_date                                           2021-01-01\n",
       "artifacts     {'metrics_csv': 'baseline_metrics.csv', 'model...\n",
       "notes         [Time-based split; no shuffling., Two baseline...\n",
       "dtype: object"
      ]
     },
     "execution_count": 12,
     "metadata": {},
     "output_type": "execute_result"
    }
   ],
   "source": [
    "import os, joblib\n",
    "OUT_DIR = os.path.join(\"..\", \"artifacts\", \"session5_baseline\")\n",
    "os.makedirs(OUT_DIR, exist_ok=True)\n",
    "\n",
    "results.to_csv(os.path.join(OUT_DIR, \"baseline_metrics.csv\"), index=False)\n",
    "joblib.dump(logreg_pipe, os.path.join(OUT_DIR, \"logreg_model.joblib\"))\n",
    "joblib.dump(rf,          os.path.join(OUT_DIR, \"rf_model.joblib\"))\n",
    "\n",
    "session_log = {\n",
    "    \"session\": \"Session 5 — Baseline Modeling\",\n",
    "    \"features\": list(X_train.columns),\n",
    "    \"split_date\": str(SPLIT_DATE.date()),\n",
    "    \"artifacts\": {\n",
    "        \"metrics_csv\": \"baseline_metrics.csv\",\n",
    "        \"models\": [\"logreg_model.joblib\", \"rf_model.joblib\"]\n",
    "    },\n",
    "    \"notes\": [\n",
    "        \"Time-based split; no shuffling.\",\n",
    "        \"Two baselines trained: LogisticRegression (with scaling) and RandomForest.\",\n",
    "        \"See ROC curves and confusion matrices for error profiles.\"\n",
    "    ]\n",
    "}\n",
    "pd.Series(session_log)"
   ]
  },
  {
   "cell_type": "code",
   "execution_count": null,
   "id": "0608a5c2",
   "metadata": {},
   "outputs": [],
   "source": []
  }
 ],
 "metadata": {
  "kernelspec": {
   "display_name": "Python 3 (ipykernel)",
   "language": "python",
   "name": "python3"
  },
  "language_info": {
   "codemirror_mode": {
    "name": "ipython",
    "version": 3
   },
   "file_extension": ".py",
   "mimetype": "text/x-python",
   "name": "python",
   "nbconvert_exporter": "python",
   "pygments_lexer": "ipython3",
   "version": "3.11.5"
  }
 },
 "nbformat": 4,
 "nbformat_minor": 5
}
